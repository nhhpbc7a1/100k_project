{
  "cells": [
    {
      "cell_type": "code",
      "execution_count": 1,
      "metadata": {
        "id": "mR9owVqFsQEI"
      },
      "outputs": [],
      "source": [
        "%matplotlib inline"
      ]
    },
    {
      "cell_type": "markdown",
      "metadata": {
        "id": "ve4DpM-YsQEL"
      },
      "source": [
        "\n",
        "Training a Classifier\n",
        "=====================\n",
        "\n",
        "This is it. You have seen how to define neural networks, compute loss and make\n",
        "updates to the weights of the network.\n",
        "\n",
        "Now you might be thinking,\n",
        "\n",
        "What about data?\n",
        "----------------\n",
        "\n",
        "Generally, when you have to deal with image, text, audio or video data,\n",
        "you can use standard python packages that load data into a numpy array.\n",
        "Then you can convert this array into a ``torch.*Tensor``.\n",
        "\n",
        "-  For images, packages such as Pillow, OpenCV are useful\n",
        "-  For audio, packages such as scipy and librosa\n",
        "-  For text, either raw Python or Cython based loading, or NLTK and\n",
        "   SpaCy are useful\n",
        "\n",
        "Specifically for vision, we have created a package called\n",
        "``torchvision``, that has data loaders for common datasets such as\n",
        "Imagenet, CIFAR10, MNIST, etc. and data transformers for images, viz.,\n",
        "``torchvision.datasets`` and ``torch.utils.data.DataLoader``.\n",
        "\n",
        "This provides a huge convenience and avoids writing boilerplate code.\n",
        "\n",
        "For this tutorial, we will use the CIFAR10 dataset.\n",
        "It has the classes: ‘airplane’, ‘automobile’, ‘bird’, ‘cat’, ‘deer’,\n",
        "‘dog’, ‘frog’, ‘horse’, ‘ship’, ‘truck’. The images in CIFAR-10 are of\n",
        "size 3x32x32, i.e. 3-channel color images of 32x32 pixels in size.\n",
        "\n",
        ".. figure:: /_static/img/cifar10.png\n",
        "   :alt: cifar10\n",
        "\n",
        "   cifar10\n",
        "\n",
        "\n",
        "Training an image classifier\n",
        "----------------------------\n",
        "\n",
        "We will do the following steps in order:\n",
        "\n",
        "1. Load and normalizing the CIFAR10 training and test datasets using\n",
        "   ``torchvision``\n",
        "2. Define a Convolution Neural Network\n",
        "3. Define a loss function\n",
        "4. Train the network on the training data\n",
        "5. Test the network on the test data\n",
        "\n",
        "1. Loading and normalizing CIFAR10\n",
        "^^^^^^^^^^^^^^^^^^^^^^^^^^^^^^^^^^\n",
        "\n",
        "Using ``torchvision``, it’s extremely easy to load CIFAR10.\n",
        "\n"
      ]
    },
    {
      "cell_type": "code",
      "execution_count": 2,
      "metadata": {
        "id": "tSKoLxHosQEN"
      },
      "outputs": [],
      "source": [
        "import torch\n",
        "import torchvision\n",
        "import torchvision.transforms as transforms"
      ]
    },
    {
      "cell_type": "markdown",
      "metadata": {
        "id": "e0oEcUZYsQEO"
      },
      "source": [
        "The output of torchvision datasets are PILImage images of range [0, 1].\n",
        "We transform them to Tensors of normalized range [-1, 1].\n",
        "\n"
      ]
    },
    {
      "cell_type": "code",
      "execution_count": 3,
      "metadata": {
        "colab": {
          "base_uri": "https://localhost:8080/"
        },
        "id": "kVU2sVi-sQEO",
        "outputId": "ef1f1c75-68ce-4d37-d25e-606a17bd43ae"
      },
      "outputs": [
        {
          "output_type": "stream",
          "name": "stderr",
          "text": [
            "100%|██████████| 170M/170M [00:12<00:00, 13.2MB/s]\n"
          ]
        }
      ],
      "source": [
        "transform = transforms.Compose(\n",
        "    [transforms.ToTensor(),\n",
        "     transforms.Normalize((0.5, 0.5, 0.5), (0.5, 0.5, 0.5))])\n",
        "\n",
        "trainset = torchvision.datasets.CIFAR10(root='./data', train=True,\n",
        "                                        download=True, transform=transform)\n",
        "trainloader = torch.utils.data.DataLoader(trainset, batch_size=4,\n",
        "                                          shuffle=True, num_workers=2)\n",
        "\n",
        "testset = torchvision.datasets.CIFAR10(root='./data', train=False,\n",
        "                                       download=True, transform=transform)\n",
        "testloader = torch.utils.data.DataLoader(testset, batch_size=4,\n",
        "                                         shuffle=False, num_workers=2)\n",
        "\n",
        "classes = ('plane', 'car', 'bird', 'cat',\n",
        "           'deer', 'dog', 'frog', 'horse', 'ship', 'truck')"
      ]
    },
    {
      "cell_type": "markdown",
      "metadata": {
        "id": "qGWyk3VcsQEP"
      },
      "source": [
        "Let us show some of the training images, for fun.\n",
        "\n"
      ]
    },
    {
      "cell_type": "code",
      "execution_count": 4,
      "metadata": {
        "colab": {
          "base_uri": "https://localhost:8080/",
          "height": 210
        },
        "id": "dAzFe0YQsQEQ",
        "outputId": "8236c7e9-379a-437d-ec60-89f13dbbf61f"
      },
      "outputs": [
        {
          "output_type": "stream",
          "name": "stdout",
          "text": [
            " frog  frog  bird  bird\n"
          ]
        },
        {
          "output_type": "display_data",
          "data": {
            "text/plain": [
              "<Figure size 640x480 with 1 Axes>"
            ],
            "image/png": "[encoded data removed]"
          },
          "metadata": {}
        }
      ],
      "source": [
        "import matplotlib.pyplot as plt\n",
        "import numpy as np\n",
        "\n",
        "# functions to show an image\n",
        "\n",
        "\n",
        "def imshow(img):\n",
        "    img = img / 2 + 0.5     # unnormalize\n",
        "    npimg = img.numpy()\n",
        "    plt.imshow(np.transpose(npimg, (1, 2, 0)))\n",
        "\n",
        "\n",
        "# get some random training images\n",
        "dataiter = iter(trainloader)\n",
        "images, labels = next(dataiter)\n",
        "\n",
        "# show images\n",
        "imshow(torchvision.utils.make_grid(images))\n",
        "# print labels\n",
        "print(' '.join('%5s' % classes[labels[j]] for j in range(4)))"
      ]
    },
    {
      "cell_type": "markdown",
      "metadata": {
        "id": "QKT_BubPsQEQ"
      },
      "source": [
        "2. Define a Convolution Neural Network\n",
        "^^^^^^^^^^^^^^^^^^^^^^^^^^^^^^^^^^^^^^\n",
        "Copy the neural network from the Neural Networks section before and modify it to\n",
        "take 3-channel images (instead of 1-channel images as it was defined).\n",
        "\n"
      ]
    },
    {
      "cell_type": "code",
      "execution_count": 40,
      "metadata": {
        "colab": {
          "base_uri": "https://localhost:8080/"
        },
        "id": "W3V7l3iVsQER",
        "outputId": "4ac3e49b-9526-490b-fd06-ff3642c584aa"
      },
      "outputs": [
        {
          "output_type": "stream",
          "name": "stdout",
          "text": [
            "Net(\n",
            "  (conv0): Conv2d(3, 38, kernel_size=(5, 5), stride=(1, 1), padding=(2, 2))\n",
            "  (conv1): Conv2d(38, 76, kernel_size=(5, 5), stride=(1, 1), padding=(2, 2))\n",
            "  (conv2): Conv2d(38, 76, kernel_size=(5, 5), stride=(1, 1), padding=(2, 2))\n",
            "  (conv3): Conv2d(152, 152, kernel_size=(5, 5), stride=(1, 1), padding=(2, 2))\n",
            "  (conv4): Conv2d(152, 152, kernel_size=(5, 5), stride=(1, 1), padding=(2, 2))\n",
            "  (conv5): Conv2d(152, 152, kernel_size=(5, 5), stride=(1, 1), padding=(2, 2))\n",
            "  (conv6): Conv2d(152, 152, kernel_size=(5, 5), stride=(1, 1), padding=(2, 2))\n",
            "  (conv7): Conv2d(152, 152, kernel_size=(5, 5), stride=(1, 1), padding=(2, 2))\n",
            "  (conv8): Conv2d(152, 152, kernel_size=(5, 5), stride=(1, 1), padding=(2, 2))\n",
            "  (conv9): Conv2d(152, 152, kernel_size=(5, 5), stride=(1, 1), padding=(2, 2))\n",
            "  (conv10): Conv2d(152, 152, kernel_size=(5, 5), stride=(1, 1), padding=(2, 2))\n",
            "  (conv11): Conv2d(76, 76, kernel_size=(3, 3), stride=(1, 1), padding=(1, 1))\n",
            "  (conv12): Conv2d(76, 76, kernel_size=(3, 3), stride=(1, 1), padding=(1, 1))\n",
            "  (conv13): Conv2d(152, 152, kernel_size=(3, 3), stride=(1, 1), padding=(1, 1))\n",
            "  (conv14): Conv2d(152, 152, kernel_size=(3, 3), stride=(1, 1), padding=(1, 1))\n",
            "  (conv15): Conv2d(152, 152, kernel_size=(3, 3), stride=(1, 1), padding=(1, 1))\n",
            "  (conv16): Conv2d(152, 152, kernel_size=(3, 3), stride=(1, 1), padding=(1, 1))\n",
            "  (conv17): Conv2d(152, 152, kernel_size=(3, 3), stride=(1, 1), padding=(1, 1))\n",
            "  (conv18): Conv2d(152, 152, kernel_size=(3, 3), stride=(1, 1), padding=(1, 1))\n",
            "  (conv19): Conv2d(152, 152, kernel_size=(3, 3), stride=(1, 1), padding=(1, 1))\n",
            "  (conv20): Conv2d(152, 152, kernel_size=(3, 3), stride=(1, 1), padding=(1, 1))\n",
            "  (pool): MaxPool2d(kernel_size=2, stride=2, padding=0, dilation=1, ceil_mode=False)\n",
            "  (fc1): Linear(in_features=19456, out_features=500, bias=True)\n",
            "  (fc2): Linear(in_features=500, out_features=84, bias=True)\n",
            ")\n",
            "torch.Size([2, 304, 8, 8])\n",
            "----------------------------------------------------------------\n",
            "        Layer (type)               Output Shape         Param #\n",
            "================================================================\n",
            "            Conv2d-1           [-1, 38, 32, 32]           2,888\n",
            "            Conv2d-2           [-1, 76, 32, 32]          72,276\n",
            "            Conv2d-3           [-1, 76, 32, 32]          52,060\n",
            "            Conv2d-4           [-1, 76, 32, 32]          72,276\n",
            "            Conv2d-5           [-1, 76, 32, 32]          52,060\n",
            "         MaxPool2d-6          [-1, 152, 16, 16]               0\n",
            "            Conv2d-7          [-1, 152, 16, 16]         577,752\n",
            "            Conv2d-8          [-1, 152, 16, 16]         577,752\n",
            "            Conv2d-9          [-1, 152, 16, 16]         208,088\n",
            "           Conv2d-10          [-1, 152, 16, 16]         208,088\n",
            "           Conv2d-11          [-1, 152, 16, 16]         577,752\n",
            "           Conv2d-12          [-1, 152, 16, 16]         577,752\n",
            "           Conv2d-13          [-1, 152, 16, 16]         208,088\n",
            "           Conv2d-14          [-1, 152, 16, 16]         208,088\n",
            "           Conv2d-15          [-1, 152, 16, 16]         577,752\n",
            "           Conv2d-16          [-1, 152, 16, 16]         577,752\n",
            "           Conv2d-17          [-1, 152, 16, 16]         208,088\n",
            "           Conv2d-18          [-1, 152, 16, 16]         208,088\n",
            "           Conv2d-19          [-1, 152, 16, 16]         577,752\n",
            "           Conv2d-20          [-1, 152, 16, 16]         577,752\n",
            "           Conv2d-21          [-1, 152, 16, 16]         208,088\n",
            "           Conv2d-22          [-1, 152, 16, 16]         208,088\n",
            "        MaxPool2d-23            [-1, 304, 8, 8]               0\n",
            "           Linear-24                  [-1, 500]       9,728,500\n",
            "================================================================\n",
            "Total params: 16,266,780\n",
            "Trainable params: 16,266,780\n",
            "Non-trainable params: 0\n",
            "----------------------------------------------------------------\n",
            "Input size (MB): 0.01\n",
            "Forward/backward pass size (MB): 7.87\n",
            "Params size (MB): 62.05\n",
            "Estimated Total Size (MB): 69.94\n",
            "----------------------------------------------------------------\n"
          ]
        }
      ],
      "source": [
        "import torch.nn as nn\n",
        "import torch.nn.functional as F\n",
        "\n",
        "\n",
        "class Net(nn.Module):\n",
        "    def __init__(self):\n",
        "        super(Net, self).__init__()\n",
        "        self.conv0 = nn.Conv2d(in_channels=3, out_channels=38, kernel_size=5, stride=1, padding=2)\n",
        "        self.conv1 = nn.Conv2d(in_channels=38, out_channels=76, kernel_size=5, stride=1, padding=2)\n",
        "        self.conv2 = nn.Conv2d(in_channels=38, out_channels=76, kernel_size=5, stride=1, padding=2)\n",
        "\n",
        "        self.conv3 = nn.Conv2d(in_channels=152, out_channels=152, kernel_size=5, stride=1, padding=2)\n",
        "        self.conv4 = nn.Conv2d(in_channels=152, out_channels=152, kernel_size=5, stride=1, padding=2)\n",
        "        self.conv5 = nn.Conv2d(in_channels=152, out_channels=152, kernel_size=5, stride=1, padding=2)\n",
        "        self.conv6 = nn.Conv2d(in_channels=152, out_channels=152, kernel_size=5, stride=1, padding=2)\n",
        "        self.conv7 = nn.Conv2d(in_channels=152, out_channels=152, kernel_size=5, stride=1, padding=2)\n",
        "        self.conv8 = nn.Conv2d(in_channels=152, out_channels=152, kernel_size=5, stride=1, padding=2)\n",
        "        self.conv9 = nn.Conv2d(in_channels=152, out_channels=152, kernel_size=5, stride=1, padding=2)\n",
        "        self.conv10 = nn.Conv2d(in_channels=152, out_channels=152, kernel_size=5, stride=1, padding=2)\n",
        "\n",
        "        self.conv11 = nn.Conv2d(in_channels=76, out_channels=76, kernel_size=3, stride=1, padding=1)\n",
        "        self.conv12 = nn.Conv2d(in_channels=76, out_channels=76, kernel_size=3, stride=1, padding=1)\n",
        "\n",
        "        self.conv13 = nn.Conv2d(in_channels=152, out_channels=152, kernel_size=3, stride=1, padding=1)\n",
        "        self.conv14 = nn.Conv2d(in_channels=152, out_channels=152, kernel_size=3, stride=1, padding=1)\n",
        "        self.conv15 = nn.Conv2d(in_channels=152, out_channels=152, kernel_size=3, stride=1, padding=1)\n",
        "        self.conv16 = nn.Conv2d(in_channels=152, out_channels=152, kernel_size=3, stride=1, padding=1)\n",
        "        self.conv17 = nn.Conv2d(in_channels=152, out_channels=152, kernel_size=3, stride=1, padding=1)\n",
        "        self.conv18 = nn.Conv2d(in_channels=152, out_channels=152, kernel_size=3, stride=1, padding=1)\n",
        "        self.conv19 = nn.Conv2d(in_channels=152, out_channels=152, kernel_size=3, stride=1, padding=1)\n",
        "        self.conv20 = nn.Conv2d(in_channels=152, out_channels=152, kernel_size=3, stride=1, padding=1)\n",
        "\n",
        "        self.pool = nn.MaxPool2d(kernel_size=2, stride=2)\n",
        "        self.fc1 = nn.Linear(304*8*8, 500)\n",
        "        self.fc2 = nn.Linear(500, 84)\n",
        "\n",
        "\n",
        "    def forward(self, x):\n",
        "        x = F.relu(self.conv0(x))\n",
        "        x1 = F.relu(self.conv1(x))\n",
        "        x1 = F.relu(self.conv11(x1))\n",
        "        x2 = F.relu(self.conv2(x))\n",
        "        x2 = F.relu(self.conv12(x2))\n",
        "        x = self.pool(torch.cat((x1, x2), dim=1))\n",
        "\n",
        "        x1 = F.relu(self.conv3(x))\n",
        "        x1 = F.relu(self.conv4(x1))\n",
        "        x1 = F.relu(self.conv13(x1))\n",
        "        x1 = F.relu(self.conv14(x1))\n",
        "\n",
        "        x2 = F.relu(self.conv5(x))\n",
        "        x2 = F.relu(self.conv6(x2))\n",
        "        x2 = F.relu(self.conv15(x2))\n",
        "        x2 = F.relu(self.conv16(x2))\n",
        "\n",
        "        x3 = F.relu(self.conv7(x))\n",
        "        x3 = F.relu(self.conv8(x3))\n",
        "        x3 = F.relu(self.conv17(x3))\n",
        "        x3 = F.relu(self.conv18(x3))\n",
        "\n",
        "        x4 = F.relu(self.conv9(x))\n",
        "        x4 = F.relu(self.conv10(x4))\n",
        "        x4 = F.relu(self.conv19(x4))\n",
        "        x4 = F.relu(self.conv20(x4))\n",
        "\n",
        "        sum1 = x1 + x2;\n",
        "        sum2 = x3 + x4;\n",
        "        x = self.pool(torch.cat((sum1, sum2), dim=1))\n",
        "        print(x.size())\n",
        "        x = x.view(-1, 304 * 8 * 8)\n",
        "        x = F.relu(self.fc1(x))\n",
        "        return x\n",
        "\n",
        "\n",
        "import torch\n",
        "device = torch.device(\"cuda\" if torch.cuda.is_available() else \"cpu\")\n",
        "net = Net()\n",
        "net.to(device)\n",
        "\n",
        "from torchsummary import summary\n",
        "print(net)\n",
        "summary(net, (3, 32, 32))"
      ]
    },
    {
      "cell_type": "markdown",
      "metadata": {
        "id": "A_q2YmbqsQER"
      },
      "source": [
        "3. Define a Loss function and optimizer\n",
        "^^^^^^^^^^^^^^^^^^^^^^^^^^^^^^^^^^^^^^^\n",
        "Let's use a Classification Cross-Entropy loss and SGD with momentum.\n",
        "\n"
      ]
    },
    {
      "cell_type": "code",
      "execution_count": null,
      "metadata": {
        "id": "-VnR7Av6sQES"
      },
      "outputs": [],
      "source": [
        "import torch.optim as optim\n",
        "\n",
        "criterion = nn.CrossEntropyLoss()\n",
        "optimizer = optim.SGD(net.parameters(), lr=0.001, momentum=0.9)"
      ]
    },
    {
      "cell_type": "markdown",
      "metadata": {
        "id": "43ULb3gksQES"
      },
      "source": [
        "4. Train the network\n",
        "^^^^^^^^^^^^^^^^^^^^\n",
        "\n",
        "This is when things start to get interesting.\n",
        "We simply have to loop over our data iterator, and feed the inputs to the\n",
        "network and optimize.\n",
        "\n"
      ]
    },
    {
      "cell_type": "code",
      "execution_count": null,
      "metadata": {
        "id": "sxp1nSc6sQES"
      },
      "outputs": [],
      "source": [
        "for epoch in range(2):  # loop over the dataset multiple times\n",
        "\n",
        "    running_loss = 0.0\n",
        "    for i, data in enumerate(trainloader, 0):\n",
        "        # get the inputs\n",
        "        inputs, labels = data\n",
        "\n",
        "        # zero the parameter gradients\n",
        "        optimizer.zero_grad()\n",
        "\n",
        "        # forward + backward + optimize\n",
        "        outputs = net(inputs)\n",
        "        loss = criterion(outputs, labels)\n",
        "        loss.backward()\n",
        "        optimizer.step()\n",
        "\n",
        "        # print statistics\n",
        "        running_loss += loss.item()\n",
        "        if i % 2000 == 1999:    # print every 2000 mini-batches\n",
        "            print('[%d, %5d] loss: %.3f' %\n",
        "                  (epoch + 1, i + 1, running_loss / 2000))\n",
        "            running_loss = 0.0\n",
        "\n",
        "print('Finished Training')"
      ]
    },
    {
      "cell_type": "markdown",
      "metadata": {
        "id": "XBKbA_-usQET"
      },
      "source": [
        "5. Test the network on the test data\n",
        "^^^^^^^^^^^^^^^^^^^^^^^^^^^^^^^^^^^^\n",
        "\n",
        "We have trained the network for 2 passes over the training dataset.\n",
        "But we need to check if the network has learnt anything at all.\n",
        "\n",
        "We will check this by predicting the class label that the neural network\n",
        "outputs, and checking it against the ground-truth. If the prediction is\n",
        "correct, we add the sample to the list of correct predictions.\n",
        "\n",
        "Okay, first step. Let us display an image from the test set to get familiar.\n",
        "\n"
      ]
    },
    {
      "cell_type": "code",
      "execution_count": null,
      "metadata": {
        "id": "62XNZrEssQET"
      },
      "outputs": [],
      "source": [
        "dataiter = iter(testloader)\n",
        "images, labels = dataiter.next()\n",
        "\n",
        "# print images\n",
        "imshow(torchvision.utils.make_grid(images))\n",
        "print('GroundTruth: ', ' '.join('%5s' % classes[labels[j]] for j in range(4)))"
      ]
    },
    {
      "cell_type": "markdown",
      "metadata": {
        "id": "AEQFQ5F3sQEU"
      },
      "source": [
        "Okay, now let us see what the neural network thinks these examples above are:\n",
        "\n"
      ]
    },
    {
      "cell_type": "code",
      "execution_count": null,
      "metadata": {
        "id": "mU6aHtiCsQEU"
      },
      "outputs": [],
      "source": [
        "outputs = net(images)"
      ]
    },
    {
      "cell_type": "markdown",
      "metadata": {
        "id": "3Q78RBsWsQEU"
      },
      "source": [
        "The outputs are energies for the 10 classes.\n",
        "Higher the energy for a class, the more the network\n",
        "thinks that the image is of the particular class.\n",
        "So, let's get the index of the highest energy:\n",
        "\n"
      ]
    },
    {
      "cell_type": "code",
      "execution_count": null,
      "metadata": {
        "id": "gKUf_8TtsQEU"
      },
      "outputs": [],
      "source": [
        "_, predicted = torch.max(outputs, 1)\n",
        "\n",
        "print('Predicted: ', ' '.join('%5s' % classes[predicted[j]]\n",
        "                              for j in range(4)))"
      ]
    },
    {
      "cell_type": "markdown",
      "metadata": {
        "id": "gvpZPhEUsQEV"
      },
      "source": [
        "The results seem pretty good.\n",
        "\n",
        "Let us look at how the network performs on the whole dataset.\n",
        "\n"
      ]
    },
    {
      "cell_type": "code",
      "execution_count": null,
      "metadata": {
        "id": "RUPWPJEUsQEV"
      },
      "outputs": [],
      "source": [
        "correct = 0\n",
        "total = 0\n",
        "with torch.no_grad():\n",
        "    for data in testloader:\n",
        "        images, labels = data\n",
        "        outputs = net(images)\n",
        "        _, predicted = torch.max(outputs.data, 1)\n",
        "        total += labels.size(0)\n",
        "        correct += (predicted == labels).sum().item()\n",
        "\n",
        "print('Accuracy of the network on the 10000 test images: %d %%' % (\n",
        "    100 * correct / total))"
      ]
    },
    {
      "cell_type": "markdown",
      "metadata": {
        "id": "YjGJYil6sQEV"
      },
      "source": [
        "That looks waaay better than chance, which is 10% accuracy (randomly picking\n",
        "a class out of 10 classes).\n",
        "Seems like the network learnt something.\n",
        "\n",
        "Hmmm, what are the classes that performed well, and the classes that did\n",
        "not perform well:\n",
        "\n"
      ]
    },
    {
      "cell_type": "code",
      "execution_count": null,
      "metadata": {
        "id": "ipX8621JsQEW"
      },
      "outputs": [],
      "source": [
        "class_correct = list(0. for i in range(10))\n",
        "class_total = list(0. for i in range(10))\n",
        "with torch.no_grad():\n",
        "    for data in testloader:\n",
        "        images, labels = data\n",
        "        outputs = net(images)\n",
        "        _, predicted = torch.max(outputs, 1)\n",
        "        c = (predicted == labels).squeeze()\n",
        "        for i in range(4):\n",
        "            label = labels[i]\n",
        "            class_correct[label] += c[i].item()\n",
        "            class_total[label] += 1\n",
        "\n",
        "\n",
        "for i in range(10):\n",
        "    print('Accuracy of %5s : %2d %%' % (\n",
        "        classes[i], 100 * class_correct[i] / class_total[i]))"
      ]
    },
    {
      "cell_type": "markdown",
      "metadata": {
        "id": "knkA08wYsQEW"
      },
      "source": [
        "Okay, so what next?\n",
        "\n",
        "How do we run these neural networks on the GPU?\n",
        "\n",
        "Training on GPU\n",
        "----------------\n",
        "Just like how you transfer a Tensor on to the GPU, you transfer the neural\n",
        "net onto the GPU.\n",
        "\n",
        "Let's first define our device as the first visible cuda device if we have\n",
        "CUDA available:\n",
        "\n"
      ]
    },
    {
      "cell_type": "code",
      "execution_count": null,
      "metadata": {
        "id": "pH88quVlsQEW"
      },
      "outputs": [],
      "source": [
        "device = torch.device(\"cuda:0\" if torch.cuda.is_available() else \"cpu\")\n",
        "\n",
        "# Assume that we are on a CUDA machine, then this should print a CUDA device:\n",
        "\n",
        "print(device)"
      ]
    },
    {
      "cell_type": "markdown",
      "metadata": {
        "id": "fPQ0T0k2sQEX"
      },
      "source": [
        "The rest of this section assumes that `device` is a CUDA device.\n",
        "\n",
        "Then these methods will recursively go over all modules and convert their\n",
        "parameters and buffers to CUDA tensors:\n",
        "\n",
        ".. code:: python\n",
        "\n",
        "    net.to(device)\n",
        "\n",
        "\n",
        "Remember that you will have to send the inputs and targets at every step\n",
        "to the GPU too:\n",
        "\n",
        ".. code:: python\n",
        "\n",
        "        inputs, labels = inputs.to(device), labels.to(device)\n",
        "\n",
        "Why dont I notice MASSIVE speedup compared to CPU? Because your network\n",
        "is realllly small.\n",
        "\n",
        "**Exercise:** Try increasing the width of your network (argument 2 of\n",
        "the first ``nn.Conv2d``, and argument 1 of the second ``nn.Conv2d`` –\n",
        "they need to be the same number), see what kind of speedup you get.\n",
        "\n",
        "**Goals achieved**:\n",
        "\n",
        "- Understanding PyTorch's Tensor library and neural networks at a high level.\n",
        "- Train a small neural network to classify images\n",
        "\n",
        "Training on multiple GPUs\n",
        "-------------------------\n",
        "If you want to see even more MASSIVE speedup using all of your GPUs,\n",
        "please check out :doc:`data_parallel_tutorial`.\n",
        "\n",
        "Where do I go next?\n",
        "-------------------\n",
        "\n",
        "-  :doc:`Train neural nets to play video games </intermediate/reinforcement_q_learning>`\n",
        "-  `Train a state-of-the-art ResNet network on imagenet`_\n",
        "-  `Train a face generator using Generative Adversarial Networks`_\n",
        "-  `Train a word-level language model using Recurrent LSTM networks`_\n",
        "-  `More examples`_\n",
        "-  `More tutorials`_\n",
        "-  `Discuss PyTorch on the Forums`_\n",
        "-  `Chat with other users on Slack`_\n",
        "\n",
        "\n"
      ]
    }
  ],
  "metadata": {
    "kernelspec": {
      "display_name": "Python 3",
      "name": "python3"
    },
    "language_info": {
      "codemirror_mode": {
        "name": "ipython",
        "version": 3
      },
      "file_extension": ".py",
      "mimetype": "text/x-python",
      "name": "python",
      "nbconvert_exporter": "python",
      "pygments_lexer": "ipython3",
      "version": "3.6.6"
    },
    "colab": {
      "provenance": [],
      "gpuType": "T4"
    },
    "accelerator": "GPU"
  },
  "nbformat": 4,
  "nbformat_minor": 0
}